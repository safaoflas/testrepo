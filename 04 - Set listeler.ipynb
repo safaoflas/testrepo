{
 "cells": [
  {
   "cell_type": "code",
   "execution_count": 1,
   "id": "081649e7",
   "metadata": {},
   "outputs": [],
   "source": [
    "## setler bir elemanın bir listede sadece bir defa barınmasıan izin verir."
   ]
  },
  {
   "cell_type": "code",
   "execution_count": 2,
   "id": "e593cf60",
   "metadata": {},
   "outputs": [],
   "source": [
    "list1 = [1,2,3,1,2,3]"
   ]
  },
  {
   "cell_type": "code",
   "execution_count": 3,
   "id": "b6f42156",
   "metadata": {},
   "outputs": [
    {
     "data": {
      "text/plain": [
       "[1, 2, 3, 1, 2, 3]"
      ]
     },
     "execution_count": 3,
     "metadata": {},
     "output_type": "execute_result"
    }
   ],
   "source": [
    "list1"
   ]
  },
  {
   "cell_type": "code",
   "execution_count": 4,
   "id": "e203202a",
   "metadata": {},
   "outputs": [],
   "source": [
    "## setlerde böyle bir yapı yoktur. yani 1 sayısı listenin içinde iki defa barınamaz."
   ]
  },
  {
   "cell_type": "code",
   "execution_count": 5,
   "id": "b50c774c",
   "metadata": {},
   "outputs": [],
   "source": [
    "setlist1 = set(list1)"
   ]
  },
  {
   "cell_type": "code",
   "execution_count": 6,
   "id": "23b606b1",
   "metadata": {},
   "outputs": [
    {
     "data": {
      "text/plain": [
       "list"
      ]
     },
     "execution_count": 6,
     "metadata": {},
     "output_type": "execute_result"
    }
   ],
   "source": [
    "type(list1)"
   ]
  },
  {
   "cell_type": "code",
   "execution_count": 7,
   "id": "c4bfb0fd",
   "metadata": {},
   "outputs": [
    {
     "data": {
      "text/plain": [
       "set"
      ]
     },
     "execution_count": 7,
     "metadata": {},
     "output_type": "execute_result"
    }
   ],
   "source": [
    "type(setlist1)"
   ]
  },
  {
   "cell_type": "code",
   "execution_count": 8,
   "id": "1bb18278",
   "metadata": {},
   "outputs": [
    {
     "data": {
      "text/plain": [
       "{1, 2, 3}"
      ]
     },
     "execution_count": 8,
     "metadata": {},
     "output_type": "execute_result"
    }
   ],
   "source": [
    "setlist1"
   ]
  },
  {
   "cell_type": "code",
   "execution_count": 11,
   "id": "f91d0443",
   "metadata": {},
   "outputs": [],
   "source": [
    "bosset = {1,2,3}"
   ]
  },
  {
   "cell_type": "code",
   "execution_count": 12,
   "id": "015d314a",
   "metadata": {},
   "outputs": [
    {
     "name": "stdout",
     "output_type": "stream",
     "text": [
      "<class 'set'>\n"
     ]
    }
   ],
   "source": [
    "print(type(bosset))"
   ]
  },
  {
   "cell_type": "code",
   "execution_count": 13,
   "id": "2af19c1b",
   "metadata": {},
   "outputs": [],
   "source": [
    "bosset.add(4)"
   ]
  },
  {
   "cell_type": "code",
   "execution_count": 14,
   "id": "c35e9b2c",
   "metadata": {},
   "outputs": [
    {
     "data": {
      "text/plain": [
       "{1, 2, 3, 4}"
      ]
     },
     "execution_count": 14,
     "metadata": {},
     "output_type": "execute_result"
    }
   ],
   "source": [
    "bosset"
   ]
  },
  {
   "cell_type": "code",
   "execution_count": null,
   "id": "f6c60aef",
   "metadata": {},
   "outputs": [],
   "source": []
  }
 ],
 "metadata": {
  "kernelspec": {
   "display_name": "Python 3 (ipykernel)",
   "language": "python",
   "name": "python3"
  },
  "language_info": {
   "codemirror_mode": {
    "name": "ipython",
    "version": 3
   },
   "file_extension": ".py",
   "mimetype": "text/x-python",
   "name": "python",
   "nbconvert_exporter": "python",
   "pygments_lexer": "ipython3",
   "version": "3.9.12"
  }
 },
 "nbformat": 4,
 "nbformat_minor": 5
}
